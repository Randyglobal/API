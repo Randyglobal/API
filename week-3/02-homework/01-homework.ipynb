{
  "cells": [
    {
      "cell_type": "markdown",
      "metadata": {
        "id": "r0yNzsnRiDNK"
      },
      "source": [
        "# Homework: Lists and Conditional Logic\n",
        "\n",
        "## **Submission Guidelines**\n",
        "* Focus on completing Exercises 1, 2 and 3. Exercises 4 and 5 are _stretch challenges_.\n",
        "* Submit your by copy and pasting each exercise into the text submission box for this assessment in brightspace* Clearly label each exercise and include comments to explain your logic.\n",
        "\n",
        "## Instructions\n",
        "\n",
        "Complete the following exercises in a single Python file or Jupyter Notebook. Clearly label each exercise and include comments explaining your logic. Focus on completing Exercises 1–3; Exercises 4 and 5 are stretch challenges. **Do not use loops or built-in aggregate functions in Exercises 4 and 5.** Use only basic variables, list indexing (referring to the first element, second element, etc.), conditionals, and arithmetic operations.\n",
        "\n",
        "Focus on completing Exercises 1–3. Exercises 4 and 5 are stretch challenges.\n",
        "\n",
        "**Remember to start with the English steps, write pseudocode, then write code.**"
      ]
    },
    {
      "cell_type": "markdown",
      "metadata": {
        "id": "Yex_VlyMiDNO"
      },
      "source": [
        "### Exercise 1: Basic List Operations\n",
        "\n",
        "1. **Create a List:** Write code to create a list with 5 elements of your choice.\n",
        "2. **Print the List:** Display the original list.\n",
        "3. **Modify the List:**\n",
        "   - Change the second element to a new value.\n",
        "   - Append a new element to the end of the list.\n",
        "   - Remove the third element from the list.\n",
        "4. **Print the Updated List:** Verify your modifications by printing the final list.\n"
      ]
    },
    {
      "cell_type": "code",
      "execution_count": null,
      "metadata": {
        "id": "-S1yotxSiDNP"
      },
      "outputs": [],
      "source": [
        "# Exercise 1, Step 1: Create a list with 5 elements\n",
        "# Your code here\n",
        "my_list = [1,3,4,\"Name\",\"Orange\"]"
      ]
    },
    {
      "cell_type": "code",
      "execution_count": null,
      "metadata": {
        "id": "WoDEDdCqiDNQ"
      },
      "outputs": [],
      "source": [
        "# Exercise 1, Step 2: Print the original list\n",
        "# Your code here\n",
        "my_list = [1,3,4,\"Name\",\"Orange\"]\n",
        "print(\"This is My List\", my_list)\n"
      ]
    },
    {
      "cell_type": "code",
      "execution_count": null,
      "metadata": {
        "id": "LmEivCG3iDNQ"
      },
      "outputs": [],
      "source": [
        "# Exercise 1, Step 3: Modify the list\n",
        "# - Change the second element to a new value\n",
        "# - Append a new element to the end of the list\n",
        "# - Remove the third element from the list\n",
        "# Your code here\n",
        "my_list = [1,3,4,\"Name\",\"Orange\"]\n",
        "print(\"This is My List\", my_list)\n",
        "my_list[1] = 5\n",
        "print(\"My new List\", my_list)\n",
        "my_list.append(\"Beans\")\n",
        "print(\"My new List\", my_list)\n",
        "my_list.remove(4)"
      ]
    },
    {
      "cell_type": "code",
      "execution_count": 2,
      "metadata": {
        "id": "ls0uYIv3iDNQ",
        "outputId": "830c42b3-847f-4db5-a577-4a7b95a8f2d2",
        "colab": {
          "base_uri": "https://localhost:8080/"
        }
      },
      "outputs": [
        {
          "output_type": "stream",
          "name": "stdout",
          "text": [
            "This is My List [1, 3, 4, 'Name', 'Orange']\n",
            "My new List [1, 5, 4, 'Name', 'Orange']\n",
            "My new List [1, 5, 4, 'Name', 'Orange', 'Beans']\n",
            "My new List [1, 5, 'Name', 'Orange', 'Beans']\n"
          ]
        }
      ],
      "source": [
        "# Exercise 1, Step 4: Print the updated list\n",
        "# Your code here\n",
        "my_list = [1,3,4,\"Name\",\"Orange\"]\n",
        "print(\"This is My List\", my_list)\n",
        "# To modify a particular element in a list\n",
        "my_list[1] = 5\n",
        "print(\"My new List\", my_list)\n",
        "my_list.append(\"Beans\")\n",
        "print(\"My new List\", my_list)\n",
        "my_list.remove(4)\n",
        "print(\"My new List\", my_list)"
      ]
    },
    {
      "cell_type": "markdown",
      "metadata": {
        "id": "DLGa0gQMiDNR"
      },
      "source": [
        "### Exercise 2: Membership Check\n",
        "\n",
        "1. **Create a List:** Write code to create a list with 5 colors of your choice.\n",
        "2. **Membership Check:** Check if the color \"blue\" is in your list.\n",
        "   - If it is present, print a message confirming that the list contains \"blue\".\n",
        "   - If it is not present, print a message indicating that \"blue\" is not in the list.\n",
        "\n",
        "*Note:* You do not need to retrieve the position of the element; simply print a confirmation message."
      ]
    },
    {
      "cell_type": "code",
      "execution_count": null,
      "metadata": {
        "id": "ubnFaAT3iDNR"
      },
      "outputs": [],
      "source": [
        "# Exercise 2, Step 1: Create a list with 5 colors\n",
        "# Your code here\n",
        "my_colors = [\"Orange\", \"Blue\", \"Black\", \"Pink\", \"Yellow\"]"
      ]
    },
    {
      "cell_type": "code",
      "execution_count": 4,
      "metadata": {
        "id": "hDnXrOH4iDNR",
        "outputId": "a0f9ca89-7748-493f-ec39-373ad89e7591",
        "colab": {
          "base_uri": "https://localhost:8080/"
        }
      },
      "outputs": [
        {
          "output_type": "stream",
          "name": "stdout",
          "text": [
            "List contains color Blue\n"
          ]
        }
      ],
      "source": [
        "# Exercise 2, Step 2: Check for membership of 'blue'\n",
        "# Your code here\n",
        "my_colors = [\"Orange\", \"Blue\", \"Black\", \"Pink\", \"Yellow\"]\n",
        "if \"Blue\" in my_colors:\n",
        "    print(\"List contains color Blue\")\n",
        "else:\n",
        "    print(\"Blue color not found\")\n"
      ]
    },
    {
      "cell_type": "markdown",
      "metadata": {
        "id": "1tVhkHP6iDNR"
      },
      "source": [
        "### Exercise 3: Real-World List Modification (Hard)\n",
        "\n",
        "Imagine you are managing a set of 5 numbers (for example, representing test scores). Write a program that performs the following tasks (remember: the first element is the first, the second is the second, and so on):\n",
        "\n",
        "1. **Initialize the List:** Create a list of 5 numbers.\n",
        "2. **Conditional Adjustment:** Check if the third element is less than 50.\n",
        "   - If it is, update that element to 50.\n",
        "3. **Conditional Penalty:** Calculate the sum of the first element and the last element.\n",
        "   - If this sum is greater than 100, set the last element to 0.\n",
        "4. **Swap Operation:** Swap the first element with the third element.\n",
        "5. **Print the Final List:** Display the modified list.\n"
      ]
    },
    {
      "cell_type": "code",
      "execution_count": null,
      "metadata": {
        "id": "BA55MF19iDNS"
      },
      "outputs": [],
      "source": [
        "# Exercise 3, Step 1: Initialize a list of 5 numbers\n",
        "# Your code here\n",
        "my_numbers = [1,3,5,7,100]"
      ]
    },
    {
      "cell_type": "code",
      "execution_count": null,
      "metadata": {
        "id": "Fs4eAPiAiDNS"
      },
      "outputs": [],
      "source": [
        "# Exercise 3, Step 2: Conditional adjustment - if the third element is less than 50, update it to 50\n",
        "# Your code here\n",
        "my_numbers = [1,3,5,7,100]\n",
        "if my_numbers[2] < 50:\n",
        "    my_numbers[2] = 50\n",
        "    print(\"This is my new Number List\", my_numbers)"
      ]
    },
    {
      "cell_type": "code",
      "execution_count": null,
      "metadata": {
        "id": "NYQqA7FAiDNS"
      },
      "outputs": [],
      "source": [
        "# Exercise 3, Step 3: Conditional penalty - if the sum of the first and last elements is greater than 100, set the last element to 0\n",
        "# Your code here\n",
        "my_numbers = [1,3,5,7,100]\n",
        "sum = my_numbers[0] + my_numbers[4]"
      ]
    },
    {
      "cell_type": "code",
      "execution_count": null,
      "metadata": {
        "id": "iNI7mYrsiDNS"
      },
      "outputs": [],
      "source": [
        "# Exercise 3, Step 4: Swap the first element with the third element\n",
        "# Your code here\n",
        "my_numbers = [1,3,5,7,100]\n",
        "sum = my_numbers[0] + my_numbers[4]\n",
        "print(sum)\n",
        "if sum > 100:\n",
        "    my_numbers[4] = 0\n",
        "    print(\"My new List of Numbers\", my_numbers)"
      ]
    },
    {
      "cell_type": "code",
      "execution_count": 5,
      "metadata": {
        "id": "knBHPmcKiDNS",
        "outputId": "b9012ef8-71c9-47ed-9028-8aeed33e5827",
        "colab": {
          "base_uri": "https://localhost:8080/"
        }
      },
      "outputs": [
        {
          "output_type": "stream",
          "name": "stdout",
          "text": [
            "101\n",
            "My new List of Numbers [1, 3, 5, 7, 0]\n",
            "[5, 3, 1, 7, 0]\n"
          ]
        }
      ],
      "source": [
        "# Exercise 3, Step 5: Print the final list\n",
        "# Your code here\n",
        "my_numbers = [1,3,5,7,100]\n",
        "sum = my_numbers[0] + my_numbers[4]\n",
        "print(sum)\n",
        "if sum > 100:\n",
        "    my_numbers[4] = 0\n",
        "    print(\"My new List of Numbers\", my_numbers)\n",
        "\n",
        "my_numbers[0],my_numbers[2]  = my_numbers[2], my_numbers[0]\n",
        "print(my_numbers)"
      ]
    },
    {
      "cell_type": "markdown",
      "metadata": {
        "id": "wCgGEP7GiDNS"
      },
      "source": [
        "### Exercise 4: Manual Analysis Without Loops or Built-In Functions (Extra Hard)\n",
        "\n",
        "You are given a list of 10 numbers (for instance, representing grades). Without using loops or built-in functions (such as `sum()`, `len()`, etc.), complete the following tasks by manually accessing each element:\n",
        "\n",
        "1. **Create a List:** Write code to create a list with 10 numbers.\n",
        "2. **Compute the Total:** Manually add all the numbers by accessing each element individually.\n",
        "3. **Calculate the Average:** Divide the total by the number of elements in the list.\n",
        "4. **Determine the Highest Value:** Use `if` statements to compare the elements and determine the highest value.\n",
        "5. **Determine the Lowest Value:** Similarly, determine the lowest value among the elements.\n",
        "6. **Print Your Results:** Display the average, highest, and lowest values.\n"
      ]
    },
    {
      "cell_type": "code",
      "execution_count": null,
      "metadata": {
        "id": "FFJuWEvQiDNS"
      },
      "outputs": [],
      "source": [
        "# Exercise 4, Step 1: Create a list with 10 numbers\n",
        "# Your code here\n",
        "my_new_list = [1,3,5,7,9,4,6,2,10,20]"
      ]
    },
    {
      "cell_type": "code",
      "execution_count": null,
      "metadata": {
        "id": "EMR8814jiDNS"
      },
      "outputs": [],
      "source": [
        "# Exercise 4, Step 2: Manually compute the total of all numbers\n",
        "# Your code here\n",
        "my_new_list = [1,3,5,7,9,4,6,2,10,20]\n",
        "print(len(my_new_list))\n",
        "Total = my_new_list[0] + my_new_list[1] + my_new_list[2] + my_new_list[3] + my_new_list[4] + my_new_list[5] + my_new_list[6] + my_new_list[7] + my_new_list[8] + my_new_list[9]\n",
        "print(\"This is total\", Total)"
      ]
    },
    {
      "cell_type": "code",
      "execution_count": null,
      "metadata": {
        "id": "ag8rdM_qiDNT"
      },
      "outputs": [],
      "source": [
        "# Exercise 4, Step 3: Calculate the average of the numbers\n",
        "# Your code here\n",
        "my_new_list = [1,3,5,7,9,4,6,2,10,20]\n",
        "print(len(my_new_list))\n",
        "Total = my_new_list[0] + my_new_list[1] + my_new_list[2] + my_new_list[3] + my_new_list[4] + my_new_list[5] + my_new_list[6] + my_new_list[7] + my_new_list[8] + my_new_list[9]\n",
        "print(\"This is total\", Total)\n",
        "Average = Total / len(my_new_list)\n",
        "print(\"This is Average\", Average)"
      ]
    },
    {
      "cell_type": "code",
      "execution_count": null,
      "metadata": {
        "id": "Q8TT8zCBiDNT"
      },
      "outputs": [],
      "source": [
        "# Exercise 4, Step 4: Determine the highest value using if statements\n",
        "# Your code here\n",
        "my_new_list = [1,3,5,7,9,4,6,2,10,20]\n",
        "if len(my_new_list) == 0:\n",
        "    print(\"List is empty\")\n",
        "elif len(my_new_list) == 1:\n",
        "    print(\"Biggest element:\", my_new_list[0])\n",
        "else:\n",
        "    biggest = my_new_list[0]\n",
        "\n",
        "    if my_new_list[1] > biggest:\n",
        "        biggest = my_new_list[1]\n",
        "    if my_new_list[2] > biggest:\n",
        "        biggest = my_new_list[2]\n",
        "    if my_new_list[3] > biggest:\n",
        "        biggest = my_new_list[3]\n",
        "    if my_new_list[4] > biggest:\n",
        "        biggest = my_new_list[4]\n",
        "    if my_new_list[5] > biggest:\n",
        "        biggest = my_new_list[5]\n",
        "    if my_new_list[6] > biggest:\n",
        "        biggest = my_new_list[6]\n",
        "    if my_new_list[7] > biggest:\n",
        "        biggest = my_new_list[7]\n",
        "    if my_new_list[8] > biggest:\n",
        "        biggest = my_new_list[8]\n",
        "    if my_new_list[9] > biggest:\n",
        "        biggest = my_new_list[9]\n",
        "\n",
        "    print(\"Biggest element:\", biggest)"
      ]
    },
    {
      "cell_type": "code",
      "execution_count": null,
      "metadata": {
        "id": "2H1Qkyn-iDNT"
      },
      "outputs": [],
      "source": [
        "# Exercise 4, Step 5: Determine the lowest value using if statements\n",
        "# Your code here\n",
        "my_new_list = [1,3,5,7,9,4,6,2,10,20]\n",
        "if len(my_new_list) == 0:\n",
        "    print(\"List is empty\")\n",
        "elif len(my_new_list) == 1:\n",
        "    print(\"smallest element:\", my_new_list[0])\n",
        "else:\n",
        "    smallest = my_new_list[0]\n",
        "\n",
        "    if my_new_list[1] < smallest:\n",
        "        smallest = my_new_list[1]\n",
        "    if my_new_list[2] < smallest:\n",
        "        smallest = my_new_list[2]\n",
        "    if my_new_list[3] < smallest:\n",
        "        smallest = my_new_list[3]\n",
        "    if my_new_list[4] < smallest:\n",
        "        smallest = my_new_list[4]\n",
        "    if my_new_list[5] < smallest:\n",
        "        smallest = my_new_list[5]\n",
        "    if my_new_list[6] < smallest:\n",
        "        smallest = my_new_list[6]\n",
        "    if my_new_list[7] < smallest:\n",
        "        smallest = my_new_list[7]\n",
        "    if my_new_list[8] < smallest:\n",
        "        smallest = my_new_list[8]\n",
        "    if my_new_list[9] < smallest:\n",
        "        smallest = my_new_list[9]\n",
        "\n",
        "    print(\"Smallest element:\", smallest)"
      ]
    },
    {
      "cell_type": "code",
      "execution_count": null,
      "metadata": {
        "id": "UD5Yv3VbiDNT"
      },
      "outputs": [],
      "source": [
        "# Exercise 4, Step 6: Print the average, highest, and lowest values\n",
        "# Your code here\n",
        "my_new_list = [1,3,5,7,9,4,6,2,10,20]\n",
        "print(len(my_new_list))\n",
        "Total = my_new_list[0] + my_new_list[1] + my_new_list[2] + my_new_list[3] + my_new_list[4] + my_new_list[5] + my_new_list[6] + my_new_list[7] + my_new_list[8] + my_new_list[9]\n",
        "print(\"This is total\", Total)\n",
        "Average = Total / len(my_new_list)\n",
        "print(\"This is Average\", Average)\n",
        "\n",
        "if len(my_new_list) == 0:\n",
        "    print(\"List is empty\")\n",
        "elif len(my_new_list) == 1:\n",
        "    print(\"Biggest element:\", my_new_list[0])\n",
        "else:\n",
        "    biggest = my_new_list[0]\n",
        "\n",
        "    if my_new_list[1] > biggest:\n",
        "        biggest = my_new_list[1]\n",
        "    if my_new_list[2] > biggest:\n",
        "        biggest = my_new_list[2]\n",
        "    if my_new_list[3] > biggest:\n",
        "        biggest = my_new_list[3]\n",
        "    if my_new_list[4] > biggest:\n",
        "        biggest = my_new_list[4]\n",
        "    if my_new_list[5] > biggest:\n",
        "        biggest = my_new_list[5]\n",
        "    if my_new_list[6] > biggest:\n",
        "        biggest = my_new_list[6]\n",
        "    if my_new_list[7] > biggest:\n",
        "        biggest = my_new_list[7]\n",
        "    if my_new_list[8] > biggest:\n",
        "        biggest = my_new_list[8]\n",
        "    if my_new_list[9] > biggest:\n",
        "        biggest = my_new_list[9]\n",
        "\n",
        "    print(\"Biggest element:\", biggest)\n",
        "\n",
        "\n",
        "if len(my_new_list) == 0:\n",
        "    print(\"List is empty\")\n",
        "elif len(my_new_list) == 1:\n",
        "    print(\"smallest element:\", my_new_list[0])\n",
        "else:\n",
        "    smallest = my_new_list[0]\n",
        "\n",
        "    if my_new_list[1] < smallest:\n",
        "        smallest = my_new_list[1]\n",
        "    if my_new_list[2] < smallest:\n",
        "        smallest = my_new_list[2]\n",
        "    if my_new_list[3] < smallest:\n",
        "        smallest = my_new_list[3]\n",
        "    if my_new_list[4] < smallest:\n",
        "        smallest = my_new_list[4]\n",
        "    if my_new_list[5] < smallest:\n",
        "        smallest = my_new_list[5]\n",
        "    if my_new_list[6] < smallest:\n",
        "        smallest = my_new_list[6]\n",
        "    if my_new_list[7] < smallest:\n",
        "        smallest = my_new_list[7]\n",
        "    if my_new_list[8] < smallest:\n",
        "        smallest = my_new_list[8]\n",
        "    if my_new_list[9] < smallest:\n",
        "        smallest = my_new_list[9]\n",
        "\n",
        "    print(\"Smallest element:\", smallest)"
      ]
    },
    {
      "cell_type": "markdown",
      "metadata": {
        "id": "aQDpHrOyiDNT"
      },
      "source": [
        "### Exercise 5: Vowel Filter Without Loops (Nearly Impossible)\n",
        "\n",
        "Create a program that filters a list of 7 strings to include only those that start with a vowel. **Do not use loops.** Instead, use individual conditional statements and manual indexing.\n",
        "\n",
        "1. **Create a List:** Write code to create a list with 7 strings of your choice.\n",
        "2. **Filter the List:** For each string in the list, check if its first character is a vowel (a, e, i, o, or u).\n",
        "   - *Hint:* To access the first character of a string, use `string[0]`.\n",
        "   - For each string that starts with a vowel, add it to a new list manually.\n",
        "3. **Print the New List:** Display the list of strings that begin with a vowel.\n"
      ]
    },
    {
      "cell_type": "code",
      "execution_count": null,
      "metadata": {
        "id": "SvE6h5XriDNT"
      },
      "outputs": [],
      "source": [
        "# Exercise 5, Step 1: Create a list with 7 strings\n",
        "# Your code here"
      ]
    },
    {
      "cell_type": "code",
      "execution_count": null,
      "metadata": {
        "id": "2D4k-xCkiDNT"
      },
      "outputs": [],
      "source": [
        "# Exercise 5, Step 2: Filter the list to include only strings that start with a vowel\n",
        "# Your code here"
      ]
    },
    {
      "cell_type": "code",
      "execution_count": null,
      "metadata": {
        "id": "u3QrfS5hiDNT"
      },
      "outputs": [],
      "source": [
        "# Exercise 5, Step 3: Print the new list of strings that start with a vowel\n",
        "# Your code here"
      ]
    },
    {
      "cell_type": "markdown",
      "metadata": {
        "id": "Qrxyz3miiDNT"
      },
      "source": [
        "### Submission Guidelines\n",
        "\n",
        "- Submit your work as a single Python file (`.py`) or a Jupyter Notebook (`.ipynb`).\n",
        "- Clearly label each exercise and include comments to explain your logic.\n",
        "- Focus on completing Exercises 1–3; Exercises 4 and 5 are stretch challenges.\n",
        "- Do not use loops or built-in aggregate functions in Exercises 4 and 5.\n",
        "\n",
        "Good luck, and have fun practicing your list and conditional skills!"
      ]
    }
  ],
  "metadata": {
    "kernelspec": {
      "display_name": "Python 3",
      "language": "python",
      "name": "python3"
    },
    "language_info": {
      "name": "python",
      "version": "3.x"
    },
    "colab": {
      "provenance": []
    }
  },
  "nbformat": 4,
  "nbformat_minor": 0
}