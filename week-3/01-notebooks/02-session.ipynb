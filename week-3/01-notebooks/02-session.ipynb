{
  "cells": [
    {
      "cell_type": "markdown",
      "metadata": {
        "id": "9kiSnMHI9xtG"
      },
      "source": [
        "# Session 2: Introduction to While Loops\n",
        "\n",
        "Welcome to Session 2! Today we will explore the concept of looping in Python using the **while loop**. We'll see how to repeat actions while a condition is true, and how to use while loops to iterate over lists. This session builds on basic variables and lists from our previous session.\n",
        "\n",
        "## Agenda\n",
        "1. **Review and Demo** (15 minutes): A brief review of basic concepts (including lists) with live demo cells.\n",
        "2. **New Information – Introducing While Loops** (40–45 minutes): Learn the syntax of while loops and see several basic examples, including using a counter and iterating over a list.\n",
        "3. **We Do and Wrap Up** (30 minutes): A guided exercise to practice writing while loops.\n"
      ]
    },
    {
      "cell_type": "markdown",
      "metadata": {
        "id": "zOA699Ge9xtJ"
      },
      "source": [
        "## Part 1: Review and Demo\n",
        "\n",
        "Before we dive into while loops, let's quickly review some basic concepts such as variables, conditionals, and lists—since a while loop depends on a condition to determine when to stop.\n",
        "\n",
        "**Review Questions:**\n",
        "- What is a variable and how do you assign a value to it?\n",
        "- How do you write an `if`/`else` statement in Python?\n",
        "- How do you create and modify a list?\n",
        "\n",
        "Below is a demo cell for variables and conditionals. **(No answers are provided so that you can fill it in live with the class.)**"
      ]
    },
    {
      "cell_type": "code",
      "execution_count": null,
      "metadata": {
        "id": "vPMKOE0_9xtK"
      },
      "outputs": [],
      "source": [
        "# Demo: Simple variable assignment and if/else condition\n",
        "# Insert live demo code here"
      ]
    },
    {
      "cell_type": "markdown",
      "metadata": {
        "id": "zLB99MK19xtL"
      },
      "source": [
        "### Review Block: Working with Lists\n",
        "\n",
        "Let's review lists before we move on to while loops."
      ]
    },
    {
      "cell_type": "code",
      "execution_count": null,
      "metadata": {
        "id": "pMGULiG99xtM"
      },
      "outputs": [],
      "source": [
        "# Review on Lists - Creating and Accessing Lists\n",
        "# For example: Create a list of your favorite colors and print the first and last elements.\n",
        "# Insert live demo code here"
      ]
    },
    {
      "cell_type": "code",
      "execution_count": null,
      "metadata": {
        "id": "8HdRpCy59xtM"
      },
      "outputs": [],
      "source": [
        "# Review on Lists - Modifying Lists\n",
        "# For example: Append a new color to the list and remove one color, then print the updated list.\n",
        "# Insert live demo code here"
      ]
    },
    {
      "cell_type": "markdown",
      "metadata": {
        "id": "4Do0jDar9xtM"
      },
      "source": [
        "Great! With these basics in mind, we can now explore while loops."
      ]
    },
    {
      "cell_type": "markdown",
      "metadata": {
        "id": "k0wU2SPj9xtM"
      },
      "source": [
        "## Part 2: New Information – Introducing While Loops\n",
        "\n",
        "A **while loop** repeats a block of code as long as a specified condition is `True`. The basic structure is:\n",
        "\n",
        "```python\n",
        "while condition:\n",
        "    # code block to execute\n",
        "    # update something so that eventually the condition becomes False\n",
        "```\n",
        "\n",
        "Let's look at some examples."
      ]
    },
    {
      "cell_type": "code",
      "execution_count": 2,
      "metadata": {
        "id": "bX6N80Ng9xtN",
        "outputId": "c51a3517-95f2-41f6-850c-892c11cfd322",
        "colab": {
          "base_uri": "https://localhost:8080/"
        }
      },
      "outputs": [
        {
          "output_type": "stream",
          "name": "stdout",
          "text": [
            "Counter is: 0\n",
            "Counter is: 1\n",
            "Counter is: 2\n",
            "Counter is: 3\n",
            "Counter is: 4\n",
            "Counter is: 5\n"
          ]
        }
      ],
      "source": [
        "# Example 1: Using a while loop with a counter\n",
        "counter = 0\n",
        "while counter <= 5:\n",
        "    print(\"Counter is:\", counter)\n",
        "    counter += 1"
      ]
    },
    {
      "cell_type": "code",
      "execution_count": 3,
      "metadata": {
        "id": "tDES9Hq49xtN",
        "outputId": "d556327a-e77d-4c2b-ec4f-fedcb283c4ba",
        "colab": {
          "base_uri": "https://localhost:8080/"
        }
      },
      "outputs": [
        {
          "output_type": "stream",
          "name": "stdout",
          "text": [
            "Loop ended because the condition was false from the start\n"
          ]
        }
      ],
      "source": [
        "# Example 2: A while loop with a condition that's initially false\n",
        "counter = 10\n",
        "while counter < 5:\n",
        "    print(\"This will not print\")\n",
        "    counter += 1\n",
        "print(\"Loop ended because the condition was false from the start\")"
      ]
    },
    {
      "cell_type": "code",
      "execution_count": 4,
      "metadata": {
        "id": "dyF14m3p9xtN",
        "outputId": "e8938cc5-7720-4b6d-fb2b-458217aaf899",
        "colab": {
          "base_uri": "https://localhost:8080/"
        }
      },
      "outputs": [
        {
          "output_type": "stream",
          "name": "stdout",
          "text": [
            "3\n",
            "2\n",
            "1\n",
            "Blastoff!\n"
          ]
        }
      ],
      "source": [
        "# Example 3: A simple countdown using a while loop\n",
        "count = 3\n",
        "while count > 0:\n",
        "    print(count)\n",
        "    count -= 1\n",
        "print(\"Blastoff!\")"
      ]
    },
    {
      "cell_type": "code",
      "execution_count": 5,
      "metadata": {
        "id": "qIO7GT-69xtO",
        "outputId": "fbf3a57a-8f78-4b89-f696-17b01d619fa2",
        "colab": {
          "base_uri": "https://localhost:8080/"
        }
      },
      "outputs": [
        {
          "output_type": "stream",
          "name": "stdout",
          "text": [
            "1\n",
            "2\n",
            "3\n",
            "4\n",
            "5\n"
          ]
        }
      ],
      "source": [
        "# Example 4: Using a while loop to iterate through a list\n",
        "numbers = [1, 2, 3, 4, 5]\n",
        "index = 0\n",
        "\n",
        "while index < len(numbers):\n",
        "    print(numbers[index])\n",
        "    index += 1"
      ]
    },
    {
      "cell_type": "code",
      "execution_count": null,
      "metadata": {
        "id": "vecFmNCF9xtO"
      },
      "outputs": [],
      "source": [
        "# Example 5: Using a while loop with a boolean condition\n",
        "is_valid = False\n",
        "attempts = 0\n",
        "\n",
        "while not is_valid and attempts < 3:\n",
        "    print(\"Attempt\", attempts + 1, \"- Checking if input is valid...\")\n",
        "    # Simulate checking input\n",
        "    if attempts == 2:  # On the third attempt (index 2)\n",
        "        is_valid = True\n",
        "        print(\"Input is now valid!\")\n",
        "    else:\n",
        "        print(\"Input is not valid yet.\")\n",
        "    attempts += 1\n",
        "\n",
        "if is_valid:\n",
        "    print(\"Successfully validated input.\")\n",
        "else:\n",
        "    print(\"Failed to validate input after 3 attempts.\")"
      ]
    },
    {
      "cell_type": "markdown",
      "metadata": {
        "id": "50kWLH-c9xtO"
      },
      "source": [
        "Remember: Always update the variable used in the condition (such as `counter` or `index`) to avoid creating an infinite loop."
      ]
    },
    {
      "cell_type": "markdown",
      "metadata": {
        "id": "PE_bpjA19xtO"
      },
      "source": [
        "## Part 3: We Do and Wrap Up\n",
        "\n",
        "Now it's time to practice what we've learned about while loops. In the exercises below, you will:\n",
        "\n",
        "1. Create a list called `my_numbers` containing the numbers 1 to 5 and print it.\n",
        "2. Use a while loop to iterate over `my_numbers` and print each element.\n",
        "3. Use a while loop to calculate the sum of all numbers in `my_numbers` and print the sum.\n",
        "4. **Bonus:** Use a while loop to print the numbers 5 to 1 in descending order.\n",
        "5. **Additional Exercise:** Use a while loop to compute the average of the numbers in `my_numbers` and print it.\n",
        "6. **Additional Exercise:** Use a while loop to compute the product of all numbers in `my_numbers` and print the result.\n",
        "\n",
        "Work on the exercises by filling in the code cells below."
      ]
    },
    {
      "cell_type": "code",
      "execution_count": 6,
      "metadata": {
        "id": "hORwa7HF9xtO",
        "outputId": "66762dfa-447c-4f40-9028-31066c6237b8",
        "colab": {
          "base_uri": "https://localhost:8080/"
        }
      },
      "outputs": [
        {
          "output_type": "stream",
          "name": "stdout",
          "text": [
            "[1, 2, 3, 4, 5]\n"
          ]
        }
      ],
      "source": [
        "# Guided Exercise - Step 1:\n",
        "# Create a list called `my_numbers` containing the numbers 1 through 5 and print it.\n",
        "# Your code here\n",
        "my_numbers = [1,2,3,4,5]\n",
        "print(my_numbers)"
      ]
    },
    {
      "cell_type": "code",
      "execution_count": 15,
      "metadata": {
        "id": "sP926iTS9xtP",
        "outputId": "937091eb-cd1a-4947-fea1-9aec62a79a37",
        "colab": {
          "base_uri": "https://localhost:8080/"
        }
      },
      "outputs": [
        {
          "output_type": "stream",
          "name": "stdout",
          "text": [
            "1\n",
            "2\n",
            "3\n",
            "4\n",
            "5\n"
          ]
        }
      ],
      "source": [
        "# Guided Exercise - Step 2:\n",
        "# Use a while loop to iterate over `my_numbers` and print each element.\n",
        "# Your code here\n",
        "index = 0\n",
        "while index < len(my_numbers):\n",
        "  print(my_numbers[index])\n",
        "  index += 1"
      ]
    },
    {
      "cell_type": "code",
      "execution_count": 20,
      "metadata": {
        "id": "NQ2FRraA9xtP",
        "outputId": "e27214ea-9c82-4a9c-f31f-48eff375a5e7",
        "colab": {
          "base_uri": "https://localhost:8080/"
        }
      },
      "outputs": [
        {
          "output_type": "stream",
          "name": "stdout",
          "text": [
            "1\n",
            "3\n",
            "6\n",
            "10\n",
            "15\n"
          ]
        }
      ],
      "source": [
        "# Guided Exercise - Step 3:\n",
        "# Use a while loop to calculate the sum of all numbers in `my_numbers` and print the sum.\n",
        "# Your code here\n",
        "sum = 0\n",
        "index = 0\n",
        "while index < len(my_numbers):\n",
        "  sum += my_numbers[index]\n",
        "  index += 1\n",
        "  print(sum)"
      ]
    },
    {
      "cell_type": "code",
      "execution_count": 21,
      "metadata": {
        "id": "yTKELLtP9xtP",
        "outputId": "cb0655cc-014c-4e2f-bad3-24707124ac60",
        "colab": {
          "base_uri": "https://localhost:8080/"
        }
      },
      "outputs": [
        {
          "output_type": "stream",
          "name": "stdout",
          "text": [
            "5\n",
            "4\n",
            "3\n",
            "2\n",
            "1\n"
          ]
        }
      ],
      "source": [
        "# Bonus - Guided Exercise:\n",
        "# Use a while loop to print the numbers 5 to 1 in descending order.\n",
        "# Your code here\n",
        "count = 5\n",
        "while count > 0:\n",
        "  print(count)\n",
        "  count -= 1"
      ]
    },
    {
      "cell_type": "code",
      "execution_count": 22,
      "metadata": {
        "id": "pWh-5Io_9xtP",
        "outputId": "63ad28a7-f373-483f-9cfb-8f62ef4a1218",
        "colab": {
          "base_uri": "https://localhost:8080/"
        }
      },
      "outputs": [
        {
          "output_type": "stream",
          "name": "stdout",
          "text": [
            "15.0\n",
            "7.5\n",
            "5.0\n",
            "3.75\n",
            "3.0\n"
          ]
        }
      ],
      "source": [
        "# Additional Exercise - Step 5:\n",
        "# Use a while loop to compute the average of the numbers in `my_numbers` and print the average.\n",
        "# Your code here\n",
        "average = 0\n",
        "index = 0\n",
        "while index < len(my_numbers):\n",
        "  average = sum / my_numbers[index]\n",
        "  index += 1\n",
        "  print(average)"
      ]
    },
    {
      "cell_type": "code",
      "execution_count": 24,
      "metadata": {
        "id": "FvYvgLLr9xtP",
        "outputId": "786e495b-7f9d-4b5d-ed20-02dc50a54148",
        "colab": {
          "base_uri": "https://localhost:8080/"
        }
      },
      "outputs": [
        {
          "output_type": "stream",
          "name": "stdout",
          "text": [
            "0\n",
            "0\n",
            "0\n",
            "0\n",
            "0\n"
          ]
        }
      ],
      "source": [
        "# Additional Exercise - Step 6:\n",
        "# Use a while loop to compute the product of all numbers in `my_numbers` and print the product.\n",
        "# Your code here\n",
        "product = 0\n",
        "index = 0\n",
        "while index < len(my_numbers):\n",
        "  product *= my_numbers[index]\n",
        "  index += 1\n",
        "  print(product)"
      ]
    },
    {
      "cell_type": "markdown",
      "metadata": {
        "id": "q748HF1y9xtQ"
      },
      "source": [
        "### Wrap-Up\n",
        "\n",
        "Today, we learned how to use while loops to repeat actions as long as a condition is true. We saw examples using a counter, iterating over a list, and even cases where the loop does not run because the condition is false. We also practiced several exercises, including computing the sum, average, and product of a list of numbers. Remember to always update your loop variable to avoid infinite loops. Great work today!"
      ]
    }
  ],
  "metadata": {
    "kernelspec": {
      "display_name": "venv",
      "language": "python",
      "name": "python3"
    },
    "language_info": {
      "codemirror_mode": {
        "name": "ipython",
        "version": 3
      },
      "file_extension": ".py",
      "mimetype": "text/x-python",
      "name": "python",
      "nbconvert_exporter": "python",
      "pygments_lexer": "ipython3",
      "version": "3.12.2"
    },
    "colab": {
      "provenance": []
    }
  },
  "nbformat": 4,
  "nbformat_minor": 0
}