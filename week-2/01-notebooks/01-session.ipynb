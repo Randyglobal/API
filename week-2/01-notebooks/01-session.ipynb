{
  "cells": [
    {
      "cell_type": "markdown",
      "id": "0b97b35a",
      "metadata": {
        "id": "0b97b35a"
      },
      "source": [
        "# Session 1: Operations and Conditional Logic\n",
        "\n",
        "In this session, we'll review some fundamental programming concepts, learn about Python's operators and conditional logic, and complete hands-on exercises to reinforce our understanding.\n",
        "\n",
        "## Agenda\n",
        "1. **Review and Demo** (15 minutes): Recap previous material and run a couple of live demos.\n",
        "2. **New Information – Operators and Conditional Logic** (40–45 minutes): Learn about operator precedence, logical operators, Boolean values, and conditional statements.\n",
        "3. **We Do (Exercises) and Wrap-Up** (30 minutes): Hands-on exercise to solidify your understanding.\n"
      ]
    },
    {
      "cell_type": "markdown",
      "id": "a81b4335",
      "metadata": {
        "id": "a81b4335"
      },
      "source": [
        "## Part 1: Review and Demo"
      ]
    },
    {
      "cell_type": "markdown",
      "id": "a85c83d0",
      "metadata": {
        "id": "a85c83d0"
      },
      "source": [
        "Before we dive into operations and conditional logic, let’s quickly review some core Python concepts.\n",
        "\n",
        "**Key Topics:**\n",
        "- Variables and basic expressions\n",
        "- Boolean values and conditionals\n",
        "\n",
        "### Quick Review Questions:\n",
        "1. What are the main types of operators in Python?\n",
        "2. How does Python evaluate expressions with multiple operators?\n",
        "3. What are truthy and falsy values in Python?\n"
      ]
    },
    {
      "cell_type": "code",
      "execution_count": null,
      "id": "1244162c",
      "metadata": {
        "id": "1244162c"
      },
      "outputs": [],
      "source": [
        "# Review: Variables and types\n"
      ]
    },
    {
      "cell_type": "code",
      "execution_count": null,
      "id": "db8d7e36",
      "metadata": {
        "id": "db8d7e36"
      },
      "outputs": [],
      "source": [
        "# Review: Conditional logic with if and else\n"
      ]
    },
    {
      "cell_type": "markdown",
      "id": "6c1268c6",
      "metadata": {
        "id": "6c1268c6"
      },
      "source": [
        "## Part 2: New Information – Operators and Conditional Logic"
      ]
    },
    {
      "cell_type": "markdown",
      "id": "9c2bb712",
      "metadata": {
        "id": "9c2bb712"
      },
      "source": [
        "### 1. Operator Precedence (Order of Operations)\n",
        "Python follows a specific order when evaluating expressions, similar to mathematical operations.\n",
        "\n",
        "1. Parentheses `()`\n",
        "2. Exponents `**`\n",
        "3. Multiplication `*`, Division `/`, Modulus `%`\n",
        "4. Addition `+`, Subtraction `-`\n",
        "5. Comparisons `==`, `!=`, `>`, `<`, `>=`, `<=`\n",
        "6. Logical `and`, `or`, `not`\n",
        "\n",
        "**Example:**\n"
      ]
    },
    {
      "cell_type": "code",
      "execution_count": null,
      "id": "151eb98f",
      "metadata": {
        "id": "151eb98f"
      },
      "outputs": [],
      "source": [
        "result = 3 + 4 * 2  # Multiplication happens first\n",
        "print(result)\n"
      ]
    },
    {
      "cell_type": "markdown",
      "id": "6866355d",
      "metadata": {
        "id": "6866355d"
      },
      "source": [
        "\n",
        "You can use parentheses `()` to control precedence explicitly.\n"
      ]
    },
    {
      "cell_type": "markdown",
      "id": "46758107",
      "metadata": {
        "id": "46758107"
      },
      "source": [
        "### 2. Boolean Values: Truthy & Falsy\n",
        "In Python, some values evaluate to `True` while others evaluate to `False`.\n",
        "\n",
        "**Examples of falsy values:** `0`, `''`, `None`, `False`, `[]`, `{}`\n",
        "\n",
        "**Example:**\n"
      ]
    },
    {
      "cell_type": "code",
      "execution_count": null,
      "id": "1b3b0b83",
      "metadata": {
        "id": "1b3b0b83"
      },
      "outputs": [],
      "source": [
        "# What do you think this will print?\n",
        "if 0:\n",
        "    print(\"Truthy\")\n",
        "else:\n",
        "    print(\"Falsy\")"
      ]
    },
    {
      "cell_type": "code",
      "execution_count": null,
      "id": "fe70964e",
      "metadata": {
        "id": "fe70964e"
      },
      "outputs": [],
      "source": [
        "# What do you think this will print?\n",
        "if 42:\n",
        "    print(\"Truthy\")\n",
        "else:\n",
        "    print(\"Falsy\")"
      ]
    },
    {
      "cell_type": "code",
      "execution_count": null,
      "id": "7f0c0bbe",
      "metadata": {
        "id": "7f0c0bbe"
      },
      "outputs": [],
      "source": [
        "# What do you think this will print?\n",
        "if 'Hello':\n",
        "    print(\"Truthy\")\n",
        "else:\n",
        "    print(\"Falsy\")"
      ]
    },
    {
      "cell_type": "code",
      "execution_count": null,
      "id": "cf0662d6",
      "metadata": {
        "id": "cf0662d6"
      },
      "outputs": [],
      "source": [
        "# What do you think this will print?\n",
        "if '':\n",
        "    print(\"Truthy\")\n",
        "else:\n",
        "    print(\"Falsy\")"
      ]
    },
    {
      "cell_type": "code",
      "execution_count": null,
      "id": "c8d43dcd",
      "metadata": {
        "id": "c8d43dcd"
      },
      "outputs": [],
      "source": [
        "# What do you think this will print?\n",
        "if []:\n",
        "    print(\"Truthy\")\n",
        "else:\n",
        "    print(\"Falsy\")"
      ]
    },
    {
      "cell_type": "markdown",
      "id": "39e8e145",
      "metadata": {
        "id": "39e8e145"
      },
      "source": [
        "### 3. Logical Operators: `and`, `or`, `not`\n",
        "Logical operators allow you to combine multiple conditions.\n",
        "\n",
        "- `and`: Returns `True` if **both** conditions are `True`\n",
        "- `or`: Returns `True` if **at least one** condition is `True`\n",
        "- `not`: Negates a condition (reverses `True` to `False` and vice versa)\n",
        "\n",
        "**Example:**\n"
      ]
    },
    {
      "cell_type": "markdown",
      "id": "b3340c6c",
      "metadata": {
        "id": "b3340c6c"
      },
      "source": [
        "**and:**"
      ]
    },
    {
      "cell_type": "code",
      "execution_count": 1,
      "id": "934bc540",
      "metadata": {
        "id": "934bc540",
        "outputId": "ae61c6d2-98a0-40dd-dafc-5b073ea92223",
        "colab": {
          "base_uri": "https://localhost:8080/"
        }
      },
      "outputs": [
        {
          "output_type": "stream",
          "name": "stdout",
          "text": [
            "True\n"
          ]
        }
      ],
      "source": [
        "x = 10\n",
        "y = 5\n",
        "print(x > 5 and y < 10)"
      ]
    },
    {
      "cell_type": "code",
      "execution_count": 4,
      "id": "5c2b9d38",
      "metadata": {
        "id": "5c2b9d38",
        "outputId": "bb471b1c-897d-4a72-a3e6-821fe11273ca",
        "colab": {
          "base_uri": "https://localhost:8080/"
        }
      },
      "outputs": [
        {
          "output_type": "stream",
          "name": "stdout",
          "text": [
            "True\n"
          ]
        }
      ],
      "source": [
        "\n",
        "is_adult = age >= 18\n",
        "has_id = True\n",
        "can_enter = is_adult and has_id  # Both conditions must be True\n",
        "print(can_enter)"
      ]
    },
    {
      "cell_type": "markdown",
      "id": "48c7e85e",
      "metadata": {
        "id": "48c7e85e"
      },
      "source": [
        "**or:**"
      ]
    },
    {
      "cell_type": "code",
      "execution_count": 5,
      "id": "c78bbc95",
      "metadata": {
        "id": "c78bbc95",
        "outputId": "9146fb31-64e4-4060-ebd9-5b8d601d995d",
        "colab": {
          "base_uri": "https://localhost:8080/"
        }
      },
      "outputs": [
        {
          "output_type": "stream",
          "name": "stdout",
          "text": [
            "True\n"
          ]
        }
      ],
      "source": [
        "x = 10\n",
        "y = 5\n",
        "print(x < 5 or y < 10)"
      ]
    },
    {
      "cell_type": "markdown",
      "id": "c20f8782",
      "metadata": {
        "id": "c20f8782"
      },
      "source": [
        "**not:**"
      ]
    },
    {
      "cell_type": "code",
      "execution_count": 6,
      "id": "f0b023a2",
      "metadata": {
        "id": "f0b023a2",
        "outputId": "2ada0566-973e-49f2-eeb7-55cf8ca1675e",
        "colab": {
          "base_uri": "https://localhost:8080/"
        }
      },
      "outputs": [
        {
          "output_type": "stream",
          "name": "stdout",
          "text": [
            "False\n"
          ]
        }
      ],
      "source": [
        "x = 10\n",
        "y = 5\n",
        "print(not (x > 5))"
      ]
    },
    {
      "cell_type": "markdown",
      "id": "239d8a74",
      "metadata": {
        "id": "239d8a74"
      },
      "source": [
        "## Part 3: We Do (Exercises) and Wrap-Up"
      ]
    },
    {
      "cell_type": "markdown",
      "id": "45b7977c",
      "metadata": {
        "id": "45b7977c"
      },
      "source": [
        "### Exercises:\n",
        "1. **Fix the Expression:**\n",
        "   - Modify `result = 5 + 3 * 2 - 8 / 4` to ensure addition happens before multiplication."
      ]
    },
    {
      "cell_type": "code",
      "execution_count": 7,
      "id": "dca415bb",
      "metadata": {
        "id": "dca415bb",
        "outputId": "acf56c76-8327-46a3-9ac0-2ed80098515c",
        "colab": {
          "base_uri": "https://localhost:8080/"
        }
      },
      "outputs": [
        {
          "output_type": "stream",
          "name": "stdout",
          "text": [
            "9.0\n"
          ]
        }
      ],
      "source": [
        "# Exercise 1\n",
        "# Your logic goes here\n",
        "result = 5 + (3 * 2) - (8 / 4)\n",
        "print(result)"
      ]
    },
    {
      "cell_type": "markdown",
      "id": "ccedf56b",
      "metadata": {
        "id": "ccedf56b"
      },
      "source": [
        "\n",
        "2. **Boolean Evaluation:**\n",
        "   - Given `x = 10` and `y = 5`, write an expression that checks if `x` is greater than `y` and both are positive numbers.\n"
      ]
    },
    {
      "cell_type": "code",
      "execution_count": 8,
      "id": "db11c762",
      "metadata": {
        "id": "db11c762",
        "outputId": "4bf2a958-e7dc-449e-c16c-38679cde86f8",
        "colab": {
          "base_uri": "https://localhost:8080/"
        }
      },
      "outputs": [
        {
          "output_type": "stream",
          "name": "stdout",
          "text": [
            "True\n"
          ]
        }
      ],
      "source": [
        "# Exercise 2\n",
        "# Your logic goes here\n",
        "x = 10\n",
        "y = 5\n",
        "is_greater = x > y\n",
        "is_positive = x > 0 and y > 0\n",
        "result = is_greater and is_positive\n",
        "print(result)"
      ]
    },
    {
      "cell_type": "markdown",
      "id": "31d907df",
      "metadata": {
        "id": "31d907df"
      },
      "source": [
        "\n",
        "3. **Truthy and Falsy Challenge:**\n",
        "   - Write an `if` statement that prints 'Truthy' if the value of `my_var` is considered true in Python.\n"
      ]
    },
    {
      "cell_type": "code",
      "execution_count": 9,
      "id": "c6b8fe29",
      "metadata": {
        "id": "c6b8fe29",
        "outputId": "442ce5bc-27e2-43c0-efbc-19d54fd3fc0d",
        "colab": {
          "base_uri": "https://localhost:8080/"
        }
      },
      "outputs": [
        {
          "output_type": "stream",
          "name": "stdout",
          "text": [
            "Truthy\n"
          ]
        }
      ],
      "source": [
        "# Exercise 3\n",
        "# Your logic goes here\n",
        "my_var = 52\n",
        "if my_var:\n",
        "    print(\"Truthy\")"
      ]
    },
    {
      "cell_type": "markdown",
      "id": "49f3fc5b",
      "metadata": {
        "id": "49f3fc5b"
      },
      "source": [
        "\n",
        "4. **Check if a number is within a range:**  \n",
        "   - Write a Python program that asks the user for a number and prints `\"Within range\"` if the number is **between 10 and 50 (inclusive)**. Otherwise, print `\"Out of range\"`."
      ]
    },
    {
      "cell_type": "code",
      "execution_count": 14,
      "id": "45f9bdfc",
      "metadata": {
        "id": "45f9bdfc",
        "outputId": "4afd69c5-d536-4ba7-96bc-3f257dfc0dae",
        "colab": {
          "base_uri": "https://localhost:8080/"
        }
      },
      "outputs": [
        {
          "output_type": "stream",
          "name": "stdout",
          "text": [
            "Enter number35\n",
            "Within range\n"
          ]
        }
      ],
      "source": [
        "# Exercise 4\n",
        "# Your logic goes here\n",
        "number = input(\"Enter number\")\n",
        "if 10 <= int(number) <= 50:\n",
        "    print(\"Within range\")\n",
        "else:\n",
        "    print(\"Out of range\")"
      ]
    },
    {
      "cell_type": "markdown",
      "id": "15a4251e",
      "metadata": {
        "id": "15a4251e"
      },
      "source": [
        "\n",
        "5. **Even and within range check:**\n",
        "   - Modify the previous exercise so that the program **only prints \"Within range\" if the number is also even**."
      ]
    },
    {
      "cell_type": "code",
      "execution_count": null,
      "id": "85e76e5e",
      "metadata": {
        "id": "85e76e5e"
      },
      "outputs": [],
      "source": [
        "# Exercise 5\n",
        "# Your logic goes here"
      ]
    },
    {
      "cell_type": "markdown",
      "id": "0ad76616",
      "metadata": {
        "id": "0ad76616"
      },
      "source": [
        "\n",
        "### Wrap-Up\n",
        "Today, we:\n",
        "- Reviewed basic concepts like expressions and Boolean logic\n",
        "- Learned about operator precedence, logical operators, and conditionals"
      ]
    }
  ],
  "metadata": {
    "language_info": {
      "name": "python"
    },
    "colab": {
      "provenance": []
    },
    "kernelspec": {
      "name": "python3",
      "display_name": "Python 3"
    }
  },
  "nbformat": 4,
  "nbformat_minor": 5
}